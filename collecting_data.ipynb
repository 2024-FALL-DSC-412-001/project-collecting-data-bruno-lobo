{
 "cells": [
  {
   "cell_type": "markdown",
   "metadata": {},
   "source": [
    "# Collecting Data\n",
    "\n",
    "The foundation of your project will be to collect appropriate data for the problem you are trying to solve. There is incredible versatility in how you can use an machine learning model. Some examples might be to predict the next social media trend, categorizing cancer cells, trying to better understand the relationship between temperature fluctuations and coffee bean growth rates, or creating a chat bot.\n",
    "\n",
    "Since we are very early in this course, and - most likely at this point - have not discussed many models, it may be difficult to know what you can do with a dataset, or what is in scope of this course. So by the nature of the course title \"Exploring Machine Learning\" we will take an explorative approach to your project. \n",
    "\n",
    "The goal of this part of the project is to explore what data sets you might be interested in, below will be questions to help guide you to selecting a category of data that you want to further explore."
   ]
  },
  {
   "cell_type": "markdown",
   "metadata": {},
   "source": [
    "## Identifying what data you want to explore\n",
    "\n",
    "Data is everywhere and there seems to be data on about anything. You might know exactly what you want to dive deeper into or you might have no idea. Either way I invite you answer the questions below.\n",
    "\n",
    "Below create a python dictionary with the key being a short summary of the topic of interest, while the value is an explanation of your interest - such as why you are interested in this topic, or why do you feel a strong passion to understand this topic. A topic of interest could be research you are conducting, a topic you are studying at your job, hobbies you have or topics surrounding your identities.\n",
    "\n",
    "List 5 topics, and for each topic put at least a 50 word description.\n",
    "\n",
    "For example I might put:\n",
    "\n",
    "```python\n",
    "interests = {\n",
    "    \"Cats\" : \"I have two cats at home, they are basically my children. I would generally like to learn more about cat behavior, health trends and pet owner behavior. It may be interesting to also see industry trends of cat owner, or how they compare to dog owners. Maybe later I want to start to write an app that recognizes cat breeds\",\n",
    "\n",
    "    \"Scuba\" : \"The study of scuba diving seems to be a 'soft' science, and there are general guidelines on when and how long you should do safety stops to avoid getting decompression sickness. Could there be links to human anatomy or behavior on how deep a person should go safely during a dive?\",\n",
    "}\n",
    "```"
   ]
  },
  {
   "cell_type": "code",
   "execution_count": 11,
   "metadata": {},
   "outputs": [
    {
     "name": "stdout",
     "output_type": "stream",
     "text": [
      "This is an       extended string \n"
     ]
    }
   ],
   "source": [
    "# Do not edit the name of this function, it will be used for grading\n",
    "def what_are_topics_you_are_interested_in():\n",
    "    interests = {\n",
    "        \"AI\" : \"I've been interested in artificial intelligence for a while now, which is why I decided to get a concentration on it for my computer science degree.\\\n",
    "            I like it because I want to find out whether or not it is possible to make an artificial being replicate human behavior, with its own thoughts, \\\n",
    "            feelings and opinions on the world and other people.\",\n",
    "\n",
    "        \"Gaming\" : \"Gaming is my number one hobby. I wouldn't change it for the world, and when I'm not busy, I'm gaming. It's as simple as that. I find it hard to explain \\\n",
    "            what drives me to enjoy games, at this point it's just part of who I am. I play most kinds of games, I even spend way too much times on games I barely find \\\n",
    "            enjoyable just to do everything it offers. There's just something about escaping the world to go into this different realm where you can act as someone else, or do \\\n",
    "            crazy stuff for the sake of it, have tons of fun with friends messing around in silly games, or turning serious games into silly games.\",\n",
    "\n",
    "        \"Emotion\" : \"I think my interest for emotions comes from the fact I myself am lacking in that department. I've been told I'm good at observing people's emotions, \\\n",
    "            and I have little difficulty telling how someone is feeling at the moment, sometimes even if its fake. The thing is, I live most of my life on neutral, and end \\\n",
    "            up having to fake emotions myself whenever I'm in social settings. That being said, I was interested in applying my alleged emotional intelligence into AI, \\\n",
    "            and see if artificial agents can express emotions. Can't get much faker than that, I suppose, unless it's faked so well it is considered real.\",\n",
    "\n",
    "        \"Storytelling\" : \"It wasn't until around 2016 or 2017, when the movie industry, which I wasn't necessarily attached to, started to become overall awful, \\\n",
    "            that I started to take an interest for storytelling. I still don't have the patience to watch movies or read long books, but I started to pay more attention \\\n",
    "            whenever something I'm interested in presented me with a story, which I didn't do enough when I was younger. I also started to appreciate when things made sense, \\\n",
    "            when characters were developed, and when the story was engaging instead of being, for lack of a better word, slop.\",\n",
    "\n",
    "        \"Androids\" : \"I can't say when I started becoming interested in the idea of androids walking around, acting like people. But alas, here I am, interested in it now. \\\n",
    "            There has been some progress in this area alredy, but I can't say I'm a fan of most of what has been done, much less some people's views on the \\\"identity\\\" of androids.\\\n",
    "            I won't get into much detail, but I'll say that I'd like to add my own ideas to the mix, for better or worse, mostly to see what happens.\",\n",
    "\n",
    "        \"Morality\" : \"When I was old enough to reflect on my own moral character, I ended up liking the concept of morality itself, and how different people will have different \\\n",
    "            views on a concept that many would take as gospel. This is also a reason why I decided to get into the study of AI, so I can see if morality can be developed by a \\\n",
    "            non-human entity, by which I mean whether or not a human can program morality, or if it is uniquely human but beyond our control.\",\n",
    "\n",
    "        \"Music\" : \"You cannot see me outside without headphones on if I'm not tagging along with other people. Music has been part of my life for decades now, and ever since I \\\n",
    "            got my first MP3 player from my parents in middle school, I've been hooked on listening to music whenever I don't need to focus on anything in particular. \\\n",
    "            I like going into my own world and listening to what other people want to convey through melody. I'm also quite passionate about wanting music not to be slop, and \\\n",
    "            there's a lot of slop out there.\"\n",
    "    }\n",
    "    return interests\n",
    "# Note: you can use the \\ symbol to continue your string to the next line, this makes \n",
    "# things look a bit prettier\n",
    "# Example:\n",
    "print(\"This is an \\\n",
    "      extended string \")"
   ]
  },
  {
   "cell_type": "markdown",
   "metadata": {},
   "source": [
    "## Do datasets exist for my interests?\n",
    "\n",
    "There is lots of data out there but not for everything. Below are some websites where you can take a look at available datasets. Go ahead and search for datasets related to your topic. Are there many data sets surrounding your topic? Are there many different types of data like categorical, regression, images, etc? If there are limited data sets, do you feel comfortable with the challenge of creating your own data? (Note creating your own data set to supplement existing datasets will increase your score on this assignment)\n",
    "\n",
    "> You can find a link to databases on the course page!\n",
    "\n",
    "For 3 of your topics find 3 databases you might want to use for your project. Below create a dictionary with the keys being the topic values you listed above and the value a link of 3 data bases you would like to explore. If you would like to make your own data too make add a string \"Create my own data\" to the end of the list\n",
    "\n",
    "Note, if you have trouble finding datasets for your topic you can make your dataset more general, or try a different topic. For example for my \"Cats\" topic I could expand it to \"Pets\", \"Pet Toy Sales\" or \"Pet Health Benefits\"\n",
    "\n",
    "You can always change your topic and dataset later, so don't feel that these decisions are permanent.\n",
    "\n",
    "While searching did it generate any ideas on interests or data sets you would like to explore? - If so you can add or replace a topic to the dictionary above!\n",
    "\n",
    "\n",
    "Example\"\n",
    "\n",
    "```python\n",
    "datasets = {\n",
    "    \"Cats\" : [\"https://www.kaggle.com/datasets/ma7555/cat-breeds-dataset\", \"https://example.com\", \"https://example.com\", \"Create my own data\"],\n",
    "\n",
    "    \"Second Topic\": [\"https://example.com\", \"https://example.com\", \"https://example.com\"],\n",
    "    \n",
    "    \"Third Topic\" : [\"https://example.com\", \"https://example.com\", \"https://example.com\"]\n",
    "}\n",
    "```\n"
   ]
  },
  {
   "cell_type": "code",
   "execution_count": 10,
   "metadata": {},
   "outputs": [],
   "source": [
    "def find_some_datasets():\n",
    "    datasets = {\n",
    "        \"Emotion\" : [\"https://www.kaggle.com/datasets/nelgiriyewithana/emotions\", \"https://www.kaggle.com/datasets/abdallahwagih/emotion-dataset\",\n",
    "            \"https://www.kaggle.com/datasets/ananthu017/emotion-detection-fer\", \"One thing I think is lacking in all of these datasets is emotion variety. There is no agreed upon number of\\\n",
    "            base emotions, but I think only 5 or 6 is not enough to express the depths of human expression. If I were to make my own dataset, I'd follow the same procedure of analyzing\\\n",
    "            social media posts, but I would either assign scores based on arousal and valence in the emotion spectrum, or give more emotions whenever a mix is present, instead of a single label.\"],\n",
    "\n",
    "        \"Gaming\" : [\"https://www.kaggle.com/datasets/ibriiee/video-games-sales-dataset-2022-updated-extra-feat\", \"https://www.kaggle.com/datasets/arnabchaki/popular-video-games-1980-2023\", \n",
    "            \"https://www.kaggle.com/datasets/mexwell/steamgames\", \"I'd like to collect data related to whether games are narrative focused, gameplay focused, party games or \\\n",
    "            games that focus on a single/multiplayer experience. It would be interesting to relate this to how popular or how well rated the game is.\"],\n",
    "            \n",
    "        \"AI\" : [\"https://www.kaggle.com/datasets/emirhanai/human-action-detection-artificial-intelligence\", \"https://www.kaggle.com/datasets/emirhanai/language-detect-artificial-intelligence-software\", \n",
    "            \"https://www.kaggle.com/datasets/meetnagadia/human-action-recognition-har-dataset\", \"If I were to collect data on AI, I'd like to mix it with the emotion segment, \\\n",
    "            and collect how the current AI based bots react to human actions and words. Then I'd assign the reaction to different situations an emotional score, and make it a dataset, \\\n",
    "            to gather how the chatbot positions itself in understanding human behavior.\"]\n",
    "    }\n",
    "    return datasets"
   ]
  },
  {
   "cell_type": "markdown",
   "metadata": {},
   "source": [
    "## Asking questions about your dataset\n",
    "\n",
    "Some questions you might want to ask for each dataset are:\n",
    "- Who created this dataset?\n",
    "- When was this dataset created?\n",
    "- Could there be any biases when creating this dataset?\n",
    "- How was this data collected?\n",
    "- Is this data representative of the problem I am trying to solve?\n"
   ]
  }
 ],
 "metadata": {
  "kernelspec": {
   "display_name": "Python 3",
   "language": "python",
   "name": "python3"
  },
  "language_info": {
   "codemirror_mode": {
    "name": "ipython",
    "version": 3
   },
   "file_extension": ".py",
   "mimetype": "text/x-python",
   "name": "python",
   "nbconvert_exporter": "python",
   "pygments_lexer": "ipython3",
   "version": "3.12.4"
  }
 },
 "nbformat": 4,
 "nbformat_minor": 2
}
